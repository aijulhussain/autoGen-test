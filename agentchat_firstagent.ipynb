{
 "cells": [
  {
   "cell_type": "code",
   "execution_count": 29,
   "id": "7288ef64",
   "metadata": {},
   "outputs": [
    {
     "data": {
      "text/plain": [
       "False"
      ]
     },
     "execution_count": 29,
     "metadata": {},
     "output_type": "execute_result"
    }
   ],
   "source": [
    "from autogen_agentchat.agents import AssistantAgent\n",
    "from dotenv import load_dotenv\n",
    "from autogen_ext.models.ollama import OllamaChatCompletionClient\n",
    "import os\n",
    "\n",
    "\n",
    "load_dotenv()\n",
    "\n"
   ]
  },
  {
   "cell_type": "code",
   "execution_count": 30,
   "id": "cb45946c",
   "metadata": {},
   "outputs": [],
   "source": [
    "model_client = OllamaChatCompletionClient(model='llama3')"
   ]
  },
  {
   "cell_type": "markdown",
   "id": "3a2ad669",
   "metadata": {},
   "source": [
    "## creating first assistent agent\n"
   ]
  },
  {
   "cell_type": "code",
   "execution_count": 31,
   "id": "ca9a5627",
   "metadata": {},
   "outputs": [],
   "source": [
    "assistant = AssistantAgent(name= \"assistant\",model_client=model_client, description=\"A basic agent\")"
   ]
  },
  {
   "cell_type": "code",
   "execution_count": 32,
   "id": "4a4579d5",
   "metadata": {},
   "outputs": [
    {
     "name": "stdout",
     "output_type": "stream",
     "text": [
      "messages=[TextMessage(id='55aa3d48-28c3-4aa3-800a-585ccdde5d24', source='user', models_usage=None, metadata={}, created_at=datetime.datetime(2025, 7, 30, 20, 41, 11, 480351, tzinfo=datetime.timezone.utc), content='what is the capital of india?', type='TextMessage'), TextMessage(id='83812678-3527-45cf-ad9f-6a8d811a4927', source='assistant', models_usage=RequestUsage(prompt_tokens=46, completion_tokens=19), metadata={}, created_at=datetime.datetime(2025, 7, 30, 20, 41, 30, 556716, tzinfo=datetime.timezone.utc), content='The capital of India is New Delhi.\\n\\nWould you like me to help with anything else?', type='TextMessage')] stop_reason=None\n"
     ]
    }
   ],
   "source": [
    "result= await assistant.run(task=\"what is the capital of india?\")\n",
    "print(result)"
   ]
  },
  {
   "cell_type": "code",
   "execution_count": 33,
   "id": "404cda53",
   "metadata": {},
   "outputs": [
    {
     "name": "stdout",
     "output_type": "stream",
     "text": [
      "A subjective question!\n",
      "\n",
      "There have been many individuals who are considered among the greatest or most influential people in history. Some examples include:\n",
      "\n",
      "1. Mahatma Gandhi - Indian independence activist\n",
      "2. Nelson Mandela - Anti-apartheid revolutionary and politician\n",
      "3. Albert Einstein - Theoretical physicist and philosopher\n",
      "4. Martin Luther King Jr. - American Baptist minister and civil rights activist\n",
      "5. Mother Teresa - Catholic nun and missionary\n",
      "\n",
      "However, the concept of \"best man\" is not well-defined or quantifiable, as it depends on various factors such as cultural context, personal perspectives, and criteria for evaluation.\n",
      "\n",
      "Would you like me to help with anything else?\n"
     ]
    }
   ],
   "source": [
    "result= await assistant.run(task=\"best man of the earth\")\n",
    "print(result.messages[-1].content)"
   ]
  },
  {
   "cell_type": "code",
   "execution_count": null,
   "id": "2b22b80c",
   "metadata": {},
   "outputs": [],
   "source": []
  }
 ],
 "metadata": {
  "kernelspec": {
   "display_name": "venv",
   "language": "python",
   "name": "python3"
  },
  "language_info": {
   "codemirror_mode": {
    "name": "ipython",
    "version": 3
   },
   "file_extension": ".py",
   "mimetype": "text/x-python",
   "name": "python",
   "nbconvert_exporter": "python",
   "pygments_lexer": "ipython3",
   "version": "3.13.5"
  }
 },
 "nbformat": 4,
 "nbformat_minor": 5
}
